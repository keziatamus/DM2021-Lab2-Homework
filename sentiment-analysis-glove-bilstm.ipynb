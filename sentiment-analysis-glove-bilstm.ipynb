{
 "cells": [
  {
   "cell_type": "markdown",
   "id": "17fa3e3b",
   "metadata": {
    "papermill": {
     "duration": 0.034761,
     "end_time": "2021-12-23T12:50:10.038328",
     "exception": false,
     "start_time": "2021-12-23T12:50:10.003567",
     "status": "completed"
    },
    "tags": []
   },
   "source": [
    "## This part is worth 30% of your grade. A report of your work developping the model for the competition (You can use code and comment it). This report should include what your preprocessing steps, the feature engineering steps and an explanation of your model. You can also mention different things you tried and insights you gained."
   ]
  },
  {
   "cell_type": "code",
   "execution_count": 1,
   "id": "7ecc2616",
   "metadata": {
    "_cell_guid": "b1076dfc-b9ad-4769-8c92-a6c4dae69d19",
    "_uuid": "8f2839f25d086af736a60e9eeb907d3b93b6e0e5",
    "execution": {
     "iopub.execute_input": "2021-12-23T12:50:10.106471Z",
     "iopub.status.busy": "2021-12-23T12:50:10.105239Z",
     "iopub.status.idle": "2021-12-23T12:50:18.346814Z",
     "shell.execute_reply": "2021-12-23T12:50:18.346035Z",
     "shell.execute_reply.started": "2021-12-23T08:18:48.813482Z"
    },
    "papermill": {
     "duration": 8.277083,
     "end_time": "2021-12-23T12:50:18.347039",
     "exception": false,
     "start_time": "2021-12-23T12:50:10.069956",
     "status": "completed"
    },
    "tags": []
   },
   "outputs": [],
   "source": [
    "import numpy as np\n",
    "import pandas as pd\n",
    "import matplotlib.pyplot as plt\n",
    "\n",
    "from sklearn.model_selection import train_test_split\n",
    "from sklearn.metrics import classification_report, precision_recall_curve\n",
    "\n",
    "import re\n",
    "import nltk\n",
    "from nltk.corpus import stopwords\n",
    "from nltk.stem import WordNetLemmatizer #word stemmer class\n",
    "lemma = WordNetLemmatizer()\n",
    "\n",
    "from keras.preprocessing.text import Tokenizer\n",
    "from keras.preprocessing.sequence import pad_sequences\n",
    "from keras.models import Sequential\n",
    "from keras.layers import Dense, Bidirectional, LSTM, Dropout, BatchNormalization\n",
    "from keras.layers.embeddings import Embedding"
   ]
  },
  {
   "cell_type": "code",
   "execution_count": 2,
   "id": "499a25a2",
   "metadata": {
    "execution": {
     "iopub.execute_input": "2021-12-23T12:50:18.414042Z",
     "iopub.status.busy": "2021-12-23T12:50:18.412927Z",
     "iopub.status.idle": "2021-12-23T12:50:18.416527Z",
     "shell.execute_reply": "2021-12-23T12:50:18.417033Z",
     "shell.execute_reply.started": "2021-12-23T08:18:56.513991Z"
    },
    "papermill": {
     "duration": 0.038641,
     "end_time": "2021-12-23T12:50:18.417232",
     "exception": false,
     "start_time": "2021-12-23T12:50:18.378591",
     "status": "completed"
    },
    "tags": []
   },
   "outputs": [],
   "source": [
    "import json\n",
    "from pandas.io.json import json_normalize"
   ]
  },
  {
   "cell_type": "markdown",
   "id": "9e5513c9",
   "metadata": {
    "papermill": {
     "duration": 0.03126,
     "end_time": "2021-12-23T12:50:18.479602",
     "exception": false,
     "start_time": "2021-12-23T12:50:18.448342",
     "status": "completed"
    },
    "tags": []
   },
   "source": [
    "# 1. Data Preparation\n",
    "## 1.1 Load data\n",
    "I first loaded all the data, including the raw JSON file, and check each table to understand the structure better. Then, normalize and rename the columns. I also merged it with the identification data."
   ]
  },
  {
   "cell_type": "code",
   "execution_count": 3,
   "id": "0a6d79d3",
   "metadata": {
    "execution": {
     "iopub.execute_input": "2021-12-23T12:50:18.546529Z",
     "iopub.status.busy": "2021-12-23T12:50:18.545703Z",
     "iopub.status.idle": "2021-12-23T12:51:03.753850Z",
     "shell.execute_reply": "2021-12-23T12:51:03.753135Z",
     "shell.execute_reply.started": "2021-12-23T08:18:56.523702Z"
    },
    "papermill": {
     "duration": 45.24301,
     "end_time": "2021-12-23T12:51:03.754029",
     "exception": false,
     "start_time": "2021-12-23T12:50:18.511019",
     "status": "completed"
    },
    "tags": []
   },
   "outputs": [],
   "source": [
    "# read files \n",
    "data_identification = pd.read_csv(\"../input/dm2021-lab2-hw2/data_identification.csv\")\n",
    "emotion = pd.read_csv(\"../input/dm2021-lab2-hw2/emotion.csv\")\n",
    "sampleSubmission = pd.read_csv(\"../input/dm2021-lab2-hw2/sampleSubmission.csv\")\n",
    "raw_data = pd.read_json(\"../input/dm2021-lab2-hw2/tweets_DM.json\", lines=True,orient='columns')"
   ]
  },
  {
   "cell_type": "code",
   "execution_count": 4,
   "id": "7f70072e",
   "metadata": {
    "execution": {
     "iopub.execute_input": "2021-12-23T12:51:03.820401Z",
     "iopub.status.busy": "2021-12-23T12:51:03.819629Z",
     "iopub.status.idle": "2021-12-23T12:51:03.836783Z",
     "shell.execute_reply": "2021-12-23T12:51:03.837312Z",
     "shell.execute_reply.started": "2021-12-23T08:19:41.784958Z"
    },
    "papermill": {
     "duration": 0.051623,
     "end_time": "2021-12-23T12:51:03.837501",
     "exception": false,
     "start_time": "2021-12-23T12:51:03.785878",
     "status": "completed"
    },
    "tags": []
   },
   "outputs": [
    {
     "data": {
      "text/html": [
       "<div>\n",
       "<style scoped>\n",
       "    .dataframe tbody tr th:only-of-type {\n",
       "        vertical-align: middle;\n",
       "    }\n",
       "\n",
       "    .dataframe tbody tr th {\n",
       "        vertical-align: top;\n",
       "    }\n",
       "\n",
       "    .dataframe thead th {\n",
       "        text-align: right;\n",
       "    }\n",
       "</style>\n",
       "<table border=\"1\" class=\"dataframe\">\n",
       "  <thead>\n",
       "    <tr style=\"text-align: right;\">\n",
       "      <th></th>\n",
       "      <th>tweet_id</th>\n",
       "      <th>identification</th>\n",
       "    </tr>\n",
       "  </thead>\n",
       "  <tbody>\n",
       "    <tr>\n",
       "      <th>0</th>\n",
       "      <td>0x28cc61</td>\n",
       "      <td>test</td>\n",
       "    </tr>\n",
       "    <tr>\n",
       "      <th>1</th>\n",
       "      <td>0x29e452</td>\n",
       "      <td>train</td>\n",
       "    </tr>\n",
       "    <tr>\n",
       "      <th>2</th>\n",
       "      <td>0x2b3819</td>\n",
       "      <td>train</td>\n",
       "    </tr>\n",
       "    <tr>\n",
       "      <th>3</th>\n",
       "      <td>0x2db41f</td>\n",
       "      <td>test</td>\n",
       "    </tr>\n",
       "    <tr>\n",
       "      <th>4</th>\n",
       "      <td>0x2a2acc</td>\n",
       "      <td>train</td>\n",
       "    </tr>\n",
       "    <tr>\n",
       "      <th>5</th>\n",
       "      <td>0x2a8830</td>\n",
       "      <td>train</td>\n",
       "    </tr>\n",
       "    <tr>\n",
       "      <th>6</th>\n",
       "      <td>0x20b21d</td>\n",
       "      <td>train</td>\n",
       "    </tr>\n",
       "    <tr>\n",
       "      <th>7</th>\n",
       "      <td>0x2452cf</td>\n",
       "      <td>train</td>\n",
       "    </tr>\n",
       "    <tr>\n",
       "      <th>8</th>\n",
       "      <td>0x2d729d</td>\n",
       "      <td>train</td>\n",
       "    </tr>\n",
       "    <tr>\n",
       "      <th>9</th>\n",
       "      <td>0x2ab56d</td>\n",
       "      <td>train</td>\n",
       "    </tr>\n",
       "  </tbody>\n",
       "</table>\n",
       "</div>"
      ],
      "text/plain": [
       "   tweet_id identification\n",
       "0  0x28cc61           test\n",
       "1  0x29e452          train\n",
       "2  0x2b3819          train\n",
       "3  0x2db41f           test\n",
       "4  0x2a2acc          train\n",
       "5  0x2a8830          train\n",
       "6  0x20b21d          train\n",
       "7  0x2452cf          train\n",
       "8  0x2d729d          train\n",
       "9  0x2ab56d          train"
      ]
     },
     "execution_count": 4,
     "metadata": {},
     "output_type": "execute_result"
    }
   ],
   "source": [
    "# check the identification data\n",
    "data_identification[:10]"
   ]
  },
  {
   "cell_type": "code",
   "execution_count": 5,
   "id": "470ce072",
   "metadata": {
    "execution": {
     "iopub.execute_input": "2021-12-23T12:51:03.908376Z",
     "iopub.status.busy": "2021-12-23T12:51:03.907296Z",
     "iopub.status.idle": "2021-12-23T12:51:03.917427Z",
     "shell.execute_reply": "2021-12-23T12:51:03.917916Z",
     "shell.execute_reply.started": "2021-12-23T08:19:41.807742Z"
    },
    "papermill": {
     "duration": 0.046495,
     "end_time": "2021-12-23T12:51:03.918119",
     "exception": false,
     "start_time": "2021-12-23T12:51:03.871624",
     "status": "completed"
    },
    "tags": []
   },
   "outputs": [
    {
     "data": {
      "text/html": [
       "<div>\n",
       "<style scoped>\n",
       "    .dataframe tbody tr th:only-of-type {\n",
       "        vertical-align: middle;\n",
       "    }\n",
       "\n",
       "    .dataframe tbody tr th {\n",
       "        vertical-align: top;\n",
       "    }\n",
       "\n",
       "    .dataframe thead th {\n",
       "        text-align: right;\n",
       "    }\n",
       "</style>\n",
       "<table border=\"1\" class=\"dataframe\">\n",
       "  <thead>\n",
       "    <tr style=\"text-align: right;\">\n",
       "      <th></th>\n",
       "      <th>tweet_id</th>\n",
       "      <th>emotion</th>\n",
       "    </tr>\n",
       "  </thead>\n",
       "  <tbody>\n",
       "    <tr>\n",
       "      <th>0</th>\n",
       "      <td>0x3140b1</td>\n",
       "      <td>sadness</td>\n",
       "    </tr>\n",
       "    <tr>\n",
       "      <th>1</th>\n",
       "      <td>0x368b73</td>\n",
       "      <td>disgust</td>\n",
       "    </tr>\n",
       "    <tr>\n",
       "      <th>2</th>\n",
       "      <td>0x296183</td>\n",
       "      <td>anticipation</td>\n",
       "    </tr>\n",
       "    <tr>\n",
       "      <th>3</th>\n",
       "      <td>0x2bd6e1</td>\n",
       "      <td>joy</td>\n",
       "    </tr>\n",
       "    <tr>\n",
       "      <th>4</th>\n",
       "      <td>0x2ee1dd</td>\n",
       "      <td>anticipation</td>\n",
       "    </tr>\n",
       "    <tr>\n",
       "      <th>5</th>\n",
       "      <td>0x34cd80</td>\n",
       "      <td>joy</td>\n",
       "    </tr>\n",
       "    <tr>\n",
       "      <th>6</th>\n",
       "      <td>0x33f099</td>\n",
       "      <td>sadness</td>\n",
       "    </tr>\n",
       "    <tr>\n",
       "      <th>7</th>\n",
       "      <td>0x2ae7b7</td>\n",
       "      <td>sadness</td>\n",
       "    </tr>\n",
       "    <tr>\n",
       "      <th>8</th>\n",
       "      <td>0x2408d4</td>\n",
       "      <td>trust</td>\n",
       "    </tr>\n",
       "    <tr>\n",
       "      <th>9</th>\n",
       "      <td>0x2b193b</td>\n",
       "      <td>sadness</td>\n",
       "    </tr>\n",
       "  </tbody>\n",
       "</table>\n",
       "</div>"
      ],
      "text/plain": [
       "   tweet_id       emotion\n",
       "0  0x3140b1       sadness\n",
       "1  0x368b73       disgust\n",
       "2  0x296183  anticipation\n",
       "3  0x2bd6e1           joy\n",
       "4  0x2ee1dd  anticipation\n",
       "5  0x34cd80           joy\n",
       "6  0x33f099       sadness\n",
       "7  0x2ae7b7       sadness\n",
       "8  0x2408d4         trust\n",
       "9  0x2b193b       sadness"
      ]
     },
     "execution_count": 5,
     "metadata": {},
     "output_type": "execute_result"
    }
   ],
   "source": [
    "# check emotion data\n",
    "emotion[:10]"
   ]
  },
  {
   "cell_type": "code",
   "execution_count": 6,
   "id": "23a7b632",
   "metadata": {
    "execution": {
     "iopub.execute_input": "2021-12-23T12:51:03.988781Z",
     "iopub.status.busy": "2021-12-23T12:51:03.987672Z",
     "iopub.status.idle": "2021-12-23T12:51:04.010315Z",
     "shell.execute_reply": "2021-12-23T12:51:04.010793Z",
     "shell.execute_reply.started": "2021-12-23T08:19:41.824268Z"
    },
    "papermill": {
     "duration": 0.060074,
     "end_time": "2021-12-23T12:51:04.011010",
     "exception": false,
     "start_time": "2021-12-23T12:51:03.950936",
     "status": "completed"
    },
    "tags": []
   },
   "outputs": [
    {
     "data": {
      "text/html": [
       "<div>\n",
       "<style scoped>\n",
       "    .dataframe tbody tr th:only-of-type {\n",
       "        vertical-align: middle;\n",
       "    }\n",
       "\n",
       "    .dataframe tbody tr th {\n",
       "        vertical-align: top;\n",
       "    }\n",
       "\n",
       "    .dataframe thead th {\n",
       "        text-align: right;\n",
       "    }\n",
       "</style>\n",
       "<table border=\"1\" class=\"dataframe\">\n",
       "  <thead>\n",
       "    <tr style=\"text-align: right;\">\n",
       "      <th></th>\n",
       "      <th>_score</th>\n",
       "      <th>_index</th>\n",
       "      <th>_source</th>\n",
       "      <th>_crawldate</th>\n",
       "      <th>_type</th>\n",
       "    </tr>\n",
       "  </thead>\n",
       "  <tbody>\n",
       "    <tr>\n",
       "      <th>0</th>\n",
       "      <td>391</td>\n",
       "      <td>hashtag_tweets</td>\n",
       "      <td>{'tweet': {'hashtags': ['Snapchat'], 'tweet_id...</td>\n",
       "      <td>2015-05-23 11:42:47</td>\n",
       "      <td>tweets</td>\n",
       "    </tr>\n",
       "    <tr>\n",
       "      <th>1</th>\n",
       "      <td>433</td>\n",
       "      <td>hashtag_tweets</td>\n",
       "      <td>{'tweet': {'hashtags': ['freepress', 'TrumpLeg...</td>\n",
       "      <td>2016-01-28 04:52:09</td>\n",
       "      <td>tweets</td>\n",
       "    </tr>\n",
       "    <tr>\n",
       "      <th>2</th>\n",
       "      <td>232</td>\n",
       "      <td>hashtag_tweets</td>\n",
       "      <td>{'tweet': {'hashtags': ['bibleverse'], 'tweet_...</td>\n",
       "      <td>2017-12-25 04:39:20</td>\n",
       "      <td>tweets</td>\n",
       "    </tr>\n",
       "    <tr>\n",
       "      <th>3</th>\n",
       "      <td>376</td>\n",
       "      <td>hashtag_tweets</td>\n",
       "      <td>{'tweet': {'hashtags': [], 'tweet_id': '0x1cd5...</td>\n",
       "      <td>2016-01-24 23:53:05</td>\n",
       "      <td>tweets</td>\n",
       "    </tr>\n",
       "    <tr>\n",
       "      <th>4</th>\n",
       "      <td>989</td>\n",
       "      <td>hashtag_tweets</td>\n",
       "      <td>{'tweet': {'hashtags': [], 'tweet_id': '0x2de2...</td>\n",
       "      <td>2016-01-08 17:18:59</td>\n",
       "      <td>tweets</td>\n",
       "    </tr>\n",
       "    <tr>\n",
       "      <th>5</th>\n",
       "      <td>120</td>\n",
       "      <td>hashtag_tweets</td>\n",
       "      <td>{'tweet': {'hashtags': ['authentic', 'LaughOut...</td>\n",
       "      <td>2015-06-11 04:44:05</td>\n",
       "      <td>tweets</td>\n",
       "    </tr>\n",
       "    <tr>\n",
       "      <th>6</th>\n",
       "      <td>1021</td>\n",
       "      <td>hashtag_tweets</td>\n",
       "      <td>{'tweet': {'hashtags': [], 'tweet_id': '0x2c91...</td>\n",
       "      <td>2015-08-18 02:30:07</td>\n",
       "      <td>tweets</td>\n",
       "    </tr>\n",
       "    <tr>\n",
       "      <th>7</th>\n",
       "      <td>481</td>\n",
       "      <td>hashtag_tweets</td>\n",
       "      <td>{'tweet': {'hashtags': [], 'tweet_id': '0x368e...</td>\n",
       "      <td>2015-08-20 14:31:27</td>\n",
       "      <td>tweets</td>\n",
       "    </tr>\n",
       "    <tr>\n",
       "      <th>8</th>\n",
       "      <td>827</td>\n",
       "      <td>hashtag_tweets</td>\n",
       "      <td>{'tweet': {'hashtags': ['LeagueCup'], 'tweet_i...</td>\n",
       "      <td>2016-04-18 13:01:02</td>\n",
       "      <td>tweets</td>\n",
       "    </tr>\n",
       "    <tr>\n",
       "      <th>9</th>\n",
       "      <td>66</td>\n",
       "      <td>hashtag_tweets</td>\n",
       "      <td>{'tweet': {'hashtags': ['materialism', 'money'...</td>\n",
       "      <td>2015-09-09 09:22:55</td>\n",
       "      <td>tweets</td>\n",
       "    </tr>\n",
       "  </tbody>\n",
       "</table>\n",
       "</div>"
      ],
      "text/plain": [
       "   _score          _index                                            _source  \\\n",
       "0     391  hashtag_tweets  {'tweet': {'hashtags': ['Snapchat'], 'tweet_id...   \n",
       "1     433  hashtag_tweets  {'tweet': {'hashtags': ['freepress', 'TrumpLeg...   \n",
       "2     232  hashtag_tweets  {'tweet': {'hashtags': ['bibleverse'], 'tweet_...   \n",
       "3     376  hashtag_tweets  {'tweet': {'hashtags': [], 'tweet_id': '0x1cd5...   \n",
       "4     989  hashtag_tweets  {'tweet': {'hashtags': [], 'tweet_id': '0x2de2...   \n",
       "5     120  hashtag_tweets  {'tweet': {'hashtags': ['authentic', 'LaughOut...   \n",
       "6    1021  hashtag_tweets  {'tweet': {'hashtags': [], 'tweet_id': '0x2c91...   \n",
       "7     481  hashtag_tweets  {'tweet': {'hashtags': [], 'tweet_id': '0x368e...   \n",
       "8     827  hashtag_tweets  {'tweet': {'hashtags': ['LeagueCup'], 'tweet_i...   \n",
       "9      66  hashtag_tweets  {'tweet': {'hashtags': ['materialism', 'money'...   \n",
       "\n",
       "            _crawldate   _type  \n",
       "0  2015-05-23 11:42:47  tweets  \n",
       "1  2016-01-28 04:52:09  tweets  \n",
       "2  2017-12-25 04:39:20  tweets  \n",
       "3  2016-01-24 23:53:05  tweets  \n",
       "4  2016-01-08 17:18:59  tweets  \n",
       "5  2015-06-11 04:44:05  tweets  \n",
       "6  2015-08-18 02:30:07  tweets  \n",
       "7  2015-08-20 14:31:27  tweets  \n",
       "8  2016-04-18 13:01:02  tweets  \n",
       "9  2015-09-09 09:22:55  tweets  "
      ]
     },
     "execution_count": 6,
     "metadata": {},
     "output_type": "execute_result"
    }
   ],
   "source": [
    "# check the raw data        \n",
    "raw_data[:10]"
   ]
  },
  {
   "cell_type": "code",
   "execution_count": 7,
   "id": "a01d6707",
   "metadata": {
    "execution": {
     "iopub.execute_input": "2021-12-23T12:51:04.082154Z",
     "iopub.status.busy": "2021-12-23T12:51:04.081073Z",
     "iopub.status.idle": "2021-12-23T12:51:27.630472Z",
     "shell.execute_reply": "2021-12-23T12:51:27.629863Z",
     "shell.execute_reply.started": "2021-12-23T08:19:41.854750Z"
    },
    "papermill": {
     "duration": 23.585344,
     "end_time": "2021-12-23T12:51:27.630645",
     "exception": false,
     "start_time": "2021-12-23T12:51:04.045301",
     "status": "completed"
    },
    "tags": []
   },
   "outputs": [],
   "source": [
    "# split the _source columns\n",
    "df = pd.json_normalize(data=raw_data['_source'])\n",
    "\n",
    "# rename column names of source\n",
    "df=df.rename(index=str,columns={\"tweet.text\":\"text\", \"tweet.tweet_id\":\"tweet_id\",\"tweet.hashtags\":\"hashtags\"})"
   ]
  },
  {
   "cell_type": "code",
   "execution_count": 8,
   "id": "e655966b",
   "metadata": {
    "execution": {
     "iopub.execute_input": "2021-12-23T12:51:27.702285Z",
     "iopub.status.busy": "2021-12-23T12:51:27.701456Z",
     "iopub.status.idle": "2021-12-23T12:51:27.808211Z",
     "shell.execute_reply": "2021-12-23T12:51:27.808676Z",
     "shell.execute_reply.started": "2021-12-23T08:20:04.782900Z"
    },
    "papermill": {
     "duration": 0.144578,
     "end_time": "2021-12-23T12:51:27.808906",
     "exception": false,
     "start_time": "2021-12-23T12:51:27.664328",
     "status": "completed"
    },
    "tags": []
   },
   "outputs": [
    {
     "data": {
      "text/html": [
       "<div>\n",
       "<style scoped>\n",
       "    .dataframe tbody tr th:only-of-type {\n",
       "        vertical-align: middle;\n",
       "    }\n",
       "\n",
       "    .dataframe tbody tr th {\n",
       "        vertical-align: top;\n",
       "    }\n",
       "\n",
       "    .dataframe thead th {\n",
       "        text-align: right;\n",
       "    }\n",
       "</style>\n",
       "<table border=\"1\" class=\"dataframe\">\n",
       "  <thead>\n",
       "    <tr style=\"text-align: right;\">\n",
       "      <th></th>\n",
       "      <th>hashtags</th>\n",
       "      <th>tweet_id</th>\n",
       "      <th>text</th>\n",
       "    </tr>\n",
       "  </thead>\n",
       "  <tbody>\n",
       "    <tr>\n",
       "      <th>0</th>\n",
       "      <td>[Snapchat]</td>\n",
       "      <td>0x376b20</td>\n",
       "      <td>People who post \"add me on #Snapchat\" must be ...</td>\n",
       "    </tr>\n",
       "    <tr>\n",
       "      <th>1</th>\n",
       "      <td>[freepress, TrumpLegacy, CNN]</td>\n",
       "      <td>0x2d5350</td>\n",
       "      <td>@brianklaas As we see, Trump is dangerous to #...</td>\n",
       "    </tr>\n",
       "    <tr>\n",
       "      <th>2</th>\n",
       "      <td>[bibleverse]</td>\n",
       "      <td>0x28b412</td>\n",
       "      <td>Confident of your obedience, I write to you, k...</td>\n",
       "    </tr>\n",
       "    <tr>\n",
       "      <th>3</th>\n",
       "      <td>[]</td>\n",
       "      <td>0x1cd5b0</td>\n",
       "      <td>Now ISSA is stalking Tasha 😂😂😂 &lt;LH&gt;</td>\n",
       "    </tr>\n",
       "    <tr>\n",
       "      <th>4</th>\n",
       "      <td>[]</td>\n",
       "      <td>0x2de201</td>\n",
       "      <td>\"Trust is not the same as faith. A friend is s...</td>\n",
       "    </tr>\n",
       "    <tr>\n",
       "      <th>5</th>\n",
       "      <td>[authentic, LaughOutLoud]</td>\n",
       "      <td>0x1d755c</td>\n",
       "      <td>@RISKshow @TheKevinAllison Thx for the BEST TI...</td>\n",
       "    </tr>\n",
       "    <tr>\n",
       "      <th>6</th>\n",
       "      <td>[]</td>\n",
       "      <td>0x2c91a8</td>\n",
       "      <td>Still waiting on those supplies Liscus. &lt;LH&gt;</td>\n",
       "    </tr>\n",
       "    <tr>\n",
       "      <th>7</th>\n",
       "      <td>[]</td>\n",
       "      <td>0x368e95</td>\n",
       "      <td>Love knows no gender. 😢😭 &lt;LH&gt;</td>\n",
       "    </tr>\n",
       "    <tr>\n",
       "      <th>8</th>\n",
       "      <td>[LeagueCup]</td>\n",
       "      <td>0x249c0c</td>\n",
       "      <td>@DStvNgCare @DStvNg More highlights are being ...</td>\n",
       "    </tr>\n",
       "    <tr>\n",
       "      <th>9</th>\n",
       "      <td>[materialism, money, possessions]</td>\n",
       "      <td>0x218443</td>\n",
       "      <td>When do you have enough ? When are you satisfi...</td>\n",
       "    </tr>\n",
       "  </tbody>\n",
       "</table>\n",
       "</div>"
      ],
      "text/plain": [
       "                            hashtags  tweet_id  \\\n",
       "0                         [Snapchat]  0x376b20   \n",
       "1      [freepress, TrumpLegacy, CNN]  0x2d5350   \n",
       "2                       [bibleverse]  0x28b412   \n",
       "3                                 []  0x1cd5b0   \n",
       "4                                 []  0x2de201   \n",
       "5          [authentic, LaughOutLoud]  0x1d755c   \n",
       "6                                 []  0x2c91a8   \n",
       "7                                 []  0x368e95   \n",
       "8                        [LeagueCup]  0x249c0c   \n",
       "9  [materialism, money, possessions]  0x218443   \n",
       "\n",
       "                                                text  \n",
       "0  People who post \"add me on #Snapchat\" must be ...  \n",
       "1  @brianklaas As we see, Trump is dangerous to #...  \n",
       "2  Confident of your obedience, I write to you, k...  \n",
       "3                Now ISSA is stalking Tasha 😂😂😂 <LH>  \n",
       "4  \"Trust is not the same as faith. A friend is s...  \n",
       "5  @RISKshow @TheKevinAllison Thx for the BEST TI...  \n",
       "6       Still waiting on those supplies Liscus. <LH>  \n",
       "7                      Love knows no gender. 😢😭 <LH>  \n",
       "8  @DStvNgCare @DStvNg More highlights are being ...  \n",
       "9  When do you have enough ? When are you satisfi...  "
      ]
     },
     "execution_count": 8,
     "metadata": {},
     "output_type": "execute_result"
    }
   ],
   "source": [
    "# check normalized and renamed raw data\n",
    "df[:10]"
   ]
  },
  {
   "cell_type": "code",
   "execution_count": 9,
   "id": "dd0967e0",
   "metadata": {
    "execution": {
     "iopub.execute_input": "2021-12-23T12:51:27.881525Z",
     "iopub.status.busy": "2021-12-23T12:51:27.880753Z",
     "iopub.status.idle": "2021-12-23T12:51:33.112361Z",
     "shell.execute_reply": "2021-12-23T12:51:33.111702Z",
     "shell.execute_reply.started": "2021-12-23T08:20:04.893039Z"
    },
    "papermill": {
     "duration": 5.269968,
     "end_time": "2021-12-23T12:51:33.112522",
     "exception": false,
     "start_time": "2021-12-23T12:51:27.842554",
     "status": "completed"
    },
    "tags": []
   },
   "outputs": [],
   "source": [
    "# add identification the dataframe\n",
    "df=pd.merge(df,data_identification, on=\"tweet_id\")"
   ]
  },
  {
   "cell_type": "markdown",
   "id": "1cc1c6fc",
   "metadata": {
    "papermill": {
     "duration": 0.034847,
     "end_time": "2021-12-23T12:51:33.181622",
     "exception": false,
     "start_time": "2021-12-23T12:51:33.146775",
     "status": "completed"
    },
    "tags": []
   },
   "source": [
    "## 1.2 Clean the text column\n",
    "Once the data has correct structure, I preprocess it by cleaning the text (lowercase, remove punctuation, remove extra spaces, etc.) and using a tokenizer to tokenize the clean texts. Moreover, to distinguish the training and testing dataset, I split the data based on the identification value (train or test) and print it again to check if it the separation is correct."
   ]
  },
  {
   "cell_type": "code",
   "execution_count": 10,
   "id": "68d3af4b",
   "metadata": {
    "execution": {
     "iopub.execute_input": "2021-12-23T12:51:33.255293Z",
     "iopub.status.busy": "2021-12-23T12:51:33.254093Z",
     "iopub.status.idle": "2021-12-23T12:51:55.167804Z",
     "shell.execute_reply": "2021-12-23T12:51:55.167159Z",
     "shell.execute_reply.started": "2021-12-23T08:20:10.762980Z"
    },
    "papermill": {
     "duration": 21.952269,
     "end_time": "2021-12-23T12:51:55.167982",
     "exception": false,
     "start_time": "2021-12-23T12:51:33.215713",
     "status": "completed"
    },
    "tags": []
   },
   "outputs": [],
   "source": [
    "# clean the tdext\n",
    "import re\n",
    "from string import punctuation\n",
    "\n",
    "def preprocess_text(text):\n",
    "    text = text.lower()  #  lowercase text\n",
    "    text = re.sub(f\"[{re.escape(punctuation)}]\", \"\", text)  # remove punctuation\n",
    "    text = \" \".join(text.split())  # remove extra spaces, tabs, and new lines\n",
    "    return text\n",
    "\n",
    "df['text'] = df['text'].map(preprocess_text)"
   ]
  },
  {
   "cell_type": "code",
   "execution_count": 11,
   "id": "c2b17705",
   "metadata": {
    "execution": {
     "iopub.execute_input": "2021-12-23T12:51:55.242237Z",
     "iopub.status.busy": "2021-12-23T12:51:55.239667Z",
     "iopub.status.idle": "2021-12-23T12:51:55.256939Z",
     "shell.execute_reply": "2021-12-23T12:51:55.256300Z",
     "shell.execute_reply.started": "2021-12-23T08:20:32.642883Z"
    },
    "papermill": {
     "duration": 0.055454,
     "end_time": "2021-12-23T12:51:55.257101",
     "exception": false,
     "start_time": "2021-12-23T12:51:55.201647",
     "status": "completed"
    },
    "tags": []
   },
   "outputs": [
    {
     "data": {
      "text/html": [
       "<div>\n",
       "<style scoped>\n",
       "    .dataframe tbody tr th:only-of-type {\n",
       "        vertical-align: middle;\n",
       "    }\n",
       "\n",
       "    .dataframe tbody tr th {\n",
       "        vertical-align: top;\n",
       "    }\n",
       "\n",
       "    .dataframe thead th {\n",
       "        text-align: right;\n",
       "    }\n",
       "</style>\n",
       "<table border=\"1\" class=\"dataframe\">\n",
       "  <thead>\n",
       "    <tr style=\"text-align: right;\">\n",
       "      <th></th>\n",
       "      <th>hashtags</th>\n",
       "      <th>tweet_id</th>\n",
       "      <th>text</th>\n",
       "      <th>identification</th>\n",
       "    </tr>\n",
       "  </thead>\n",
       "  <tbody>\n",
       "    <tr>\n",
       "      <th>0</th>\n",
       "      <td>[Snapchat]</td>\n",
       "      <td>0x376b20</td>\n",
       "      <td>people who post add me on snapchat must be deh...</td>\n",
       "      <td>train</td>\n",
       "    </tr>\n",
       "    <tr>\n",
       "      <th>1</th>\n",
       "      <td>[freepress, TrumpLegacy, CNN]</td>\n",
       "      <td>0x2d5350</td>\n",
       "      <td>brianklaas as we see trump is dangerous to fre...</td>\n",
       "      <td>train</td>\n",
       "    </tr>\n",
       "    <tr>\n",
       "      <th>2</th>\n",
       "      <td>[bibleverse]</td>\n",
       "      <td>0x28b412</td>\n",
       "      <td>confident of your obedience i write to you kno...</td>\n",
       "      <td>test</td>\n",
       "    </tr>\n",
       "    <tr>\n",
       "      <th>3</th>\n",
       "      <td>[]</td>\n",
       "      <td>0x1cd5b0</td>\n",
       "      <td>now issa is stalking tasha 😂😂😂 lh</td>\n",
       "      <td>train</td>\n",
       "    </tr>\n",
       "    <tr>\n",
       "      <th>4</th>\n",
       "      <td>[]</td>\n",
       "      <td>0x2de201</td>\n",
       "      <td>trust is not the same as faith a friend is som...</td>\n",
       "      <td>test</td>\n",
       "    </tr>\n",
       "    <tr>\n",
       "      <th>5</th>\n",
       "      <td>[authentic, LaughOutLoud]</td>\n",
       "      <td>0x1d755c</td>\n",
       "      <td>riskshow thekevinallison thx for the best time...</td>\n",
       "      <td>train</td>\n",
       "    </tr>\n",
       "    <tr>\n",
       "      <th>6</th>\n",
       "      <td>[]</td>\n",
       "      <td>0x2c91a8</td>\n",
       "      <td>still waiting on those supplies liscus lh</td>\n",
       "      <td>train</td>\n",
       "    </tr>\n",
       "    <tr>\n",
       "      <th>7</th>\n",
       "      <td>[]</td>\n",
       "      <td>0x368e95</td>\n",
       "      <td>love knows no gender 😢😭 lh</td>\n",
       "      <td>train</td>\n",
       "    </tr>\n",
       "    <tr>\n",
       "      <th>8</th>\n",
       "      <td>[LeagueCup]</td>\n",
       "      <td>0x249c0c</td>\n",
       "      <td>dstvngcare dstvng more highlights are being sh...</td>\n",
       "      <td>train</td>\n",
       "    </tr>\n",
       "    <tr>\n",
       "      <th>9</th>\n",
       "      <td>[materialism, money, possessions]</td>\n",
       "      <td>0x218443</td>\n",
       "      <td>when do you have enough when are you satisfied...</td>\n",
       "      <td>test</td>\n",
       "    </tr>\n",
       "  </tbody>\n",
       "</table>\n",
       "</div>"
      ],
      "text/plain": [
       "                            hashtags  tweet_id  \\\n",
       "0                         [Snapchat]  0x376b20   \n",
       "1      [freepress, TrumpLegacy, CNN]  0x2d5350   \n",
       "2                       [bibleverse]  0x28b412   \n",
       "3                                 []  0x1cd5b0   \n",
       "4                                 []  0x2de201   \n",
       "5          [authentic, LaughOutLoud]  0x1d755c   \n",
       "6                                 []  0x2c91a8   \n",
       "7                                 []  0x368e95   \n",
       "8                        [LeagueCup]  0x249c0c   \n",
       "9  [materialism, money, possessions]  0x218443   \n",
       "\n",
       "                                                text identification  \n",
       "0  people who post add me on snapchat must be deh...          train  \n",
       "1  brianklaas as we see trump is dangerous to fre...          train  \n",
       "2  confident of your obedience i write to you kno...           test  \n",
       "3                  now issa is stalking tasha 😂😂😂 lh          train  \n",
       "4  trust is not the same as faith a friend is som...           test  \n",
       "5  riskshow thekevinallison thx for the best time...          train  \n",
       "6          still waiting on those supplies liscus lh          train  \n",
       "7                         love knows no gender 😢😭 lh          train  \n",
       "8  dstvngcare dstvng more highlights are being sh...          train  \n",
       "9  when do you have enough when are you satisfied...           test  "
      ]
     },
     "execution_count": 11,
     "metadata": {},
     "output_type": "execute_result"
    }
   ],
   "source": [
    "# check the clean text\n",
    "df[:10]"
   ]
  },
  {
   "cell_type": "code",
   "execution_count": 12,
   "id": "52c0453e",
   "metadata": {
    "execution": {
     "iopub.execute_input": "2021-12-23T12:51:55.336221Z",
     "iopub.status.busy": "2021-12-23T12:51:55.334620Z",
     "iopub.status.idle": "2021-12-23T12:54:43.164170Z",
     "shell.execute_reply": "2021-12-23T12:54:43.163011Z",
     "shell.execute_reply.started": "2021-12-23T08:20:32.663034Z"
    },
    "papermill": {
     "duration": 167.873184,
     "end_time": "2021-12-23T12:54:43.164597",
     "exception": false,
     "start_time": "2021-12-23T12:51:55.291413",
     "status": "completed"
    },
    "tags": []
   },
   "outputs": [],
   "source": [
    "max_length = df.text.apply(lambda x: len(x.split())).max()\n",
    "\n",
    "tokenizer = Tokenizer()\n",
    "tokenizer.fit_on_texts(df['text'])\n",
    "df['tokenized_text'] = tokenizer.texts_to_sequences(df['text'])\n",
    "df['tokenized_text'] = list(pad_sequences(df['tokenized_text'], maxlen = max_length, padding='post'))\n",
    "\n",
    "vocab_size = max([max(sublist) for sublist in df['tokenized_text'].values])+1 "
   ]
  },
  {
   "cell_type": "code",
   "execution_count": 13,
   "id": "9220e14b",
   "metadata": {
    "execution": {
     "iopub.execute_input": "2021-12-23T12:54:43.243281Z",
     "iopub.status.busy": "2021-12-23T12:54:43.242479Z",
     "iopub.status.idle": "2021-12-23T12:54:48.115446Z",
     "shell.execute_reply": "2021-12-23T12:54:48.114757Z",
     "shell.execute_reply.started": "2021-12-23T08:23:22.327291Z"
    },
    "papermill": {
     "duration": 4.912788,
     "end_time": "2021-12-23T12:54:48.115639",
     "exception": false,
     "start_time": "2021-12-23T12:54:43.202851",
     "status": "completed"
    },
    "tags": []
   },
   "outputs": [
    {
     "name": "stderr",
     "output_type": "stream",
     "text": [
      "/opt/conda/lib/python3.7/site-packages/ipykernel_launcher.py:6: SettingWithCopyWarning: \n",
      "A value is trying to be set on a copy of a slice from a DataFrame.\n",
      "Try using .loc[row_indexer,col_indexer] = value instead\n",
      "\n",
      "See the caveats in the documentation: https://pandas.pydata.org/pandas-docs/stable/user_guide/indexing.html#returning-a-view-versus-a-copy\n",
      "  \n"
     ]
    }
   ],
   "source": [
    "# split into train and test dataset\n",
    "train_df = df[df['identification']=='train']\n",
    "train_df = pd.merge(train_df, emotion, on='tweet_id')\n",
    "\n",
    "test_df = df[df['identification']=='test']\n",
    "test_df[\"emotion\"]=\"\""
   ]
  },
  {
   "cell_type": "code",
   "execution_count": 14,
   "id": "b734c410",
   "metadata": {
    "execution": {
     "iopub.execute_input": "2021-12-23T12:54:48.191552Z",
     "iopub.status.busy": "2021-12-23T12:54:48.190449Z",
     "iopub.status.idle": "2021-12-23T12:54:49.807881Z",
     "shell.execute_reply": "2021-12-23T12:54:49.808433Z",
     "shell.execute_reply.started": "2021-12-23T08:23:27.686014Z"
    },
    "papermill": {
     "duration": 1.658429,
     "end_time": "2021-12-23T12:54:49.808688",
     "exception": false,
     "start_time": "2021-12-23T12:54:48.150259",
     "status": "completed"
    },
    "tags": []
   },
   "outputs": [],
   "source": [
    "# drop the identification and hashtags column\n",
    "train_df = train_df.drop(['identification'], axis=1)\n",
    "test_df = test_df.drop(['identification'], axis=1)\n",
    "train_df = train_df.drop(['hashtags'], axis=1)\n",
    "test_df = test_df.drop(['hashtags'], axis=1)"
   ]
  },
  {
   "cell_type": "code",
   "execution_count": 15,
   "id": "eb8afd43",
   "metadata": {
    "execution": {
     "iopub.execute_input": "2021-12-23T12:54:49.903025Z",
     "iopub.status.busy": "2021-12-23T12:54:49.902088Z",
     "iopub.status.idle": "2021-12-23T12:54:49.905643Z",
     "shell.execute_reply": "2021-12-23T12:54:49.906197Z",
     "shell.execute_reply.started": "2021-12-23T08:23:29.587632Z"
    },
    "papermill": {
     "duration": 0.063092,
     "end_time": "2021-12-23T12:54:49.906395",
     "exception": false,
     "start_time": "2021-12-23T12:54:49.843303",
     "status": "completed"
    },
    "tags": []
   },
   "outputs": [
    {
     "data": {
      "text/html": [
       "<div>\n",
       "<style scoped>\n",
       "    .dataframe tbody tr th:only-of-type {\n",
       "        vertical-align: middle;\n",
       "    }\n",
       "\n",
       "    .dataframe tbody tr th {\n",
       "        vertical-align: top;\n",
       "    }\n",
       "\n",
       "    .dataframe thead th {\n",
       "        text-align: right;\n",
       "    }\n",
       "</style>\n",
       "<table border=\"1\" class=\"dataframe\">\n",
       "  <thead>\n",
       "    <tr style=\"text-align: right;\">\n",
       "      <th></th>\n",
       "      <th>tweet_id</th>\n",
       "      <th>text</th>\n",
       "      <th>tokenized_text</th>\n",
       "      <th>emotion</th>\n",
       "    </tr>\n",
       "  </thead>\n",
       "  <tbody>\n",
       "    <tr>\n",
       "      <th>0</th>\n",
       "      <td>0x376b20</td>\n",
       "      <td>people who post add me on snapchat must be deh...</td>\n",
       "      <td>[58, 62, 552, 1075, 17, 13, 1131, 285, 18, 205...</td>\n",
       "      <td>anticipation</td>\n",
       "    </tr>\n",
       "    <tr>\n",
       "      <th>1</th>\n",
       "      <td>0x2d5350</td>\n",
       "      <td>brianklaas as we see trump is dangerous to fre...</td>\n",
       "      <td>[14038, 51, 30, 73, 206, 8, 2490, 3, 32779, 25...</td>\n",
       "      <td>sadness</td>\n",
       "    </tr>\n",
       "    <tr>\n",
       "      <th>2</th>\n",
       "      <td>0x1cd5b0</td>\n",
       "      <td>now issa is stalking tasha 😂😂😂 lh</td>\n",
       "      <td>[59, 587, 8, 6629, 2390, 942, 1, 0, 0, 0, 0, 0...</td>\n",
       "      <td>fear</td>\n",
       "    </tr>\n",
       "    <tr>\n",
       "      <th>3</th>\n",
       "      <td>0x1d755c</td>\n",
       "      <td>riskshow thekevinallison thx for the best time...</td>\n",
       "      <td>[112380, 186445, 1811, 9, 2, 105, 60, 163, 34,...</td>\n",
       "      <td>joy</td>\n",
       "    </tr>\n",
       "    <tr>\n",
       "      <th>4</th>\n",
       "      <td>0x2c91a8</td>\n",
       "      <td>still waiting on those supplies liscus lh</td>\n",
       "      <td>[90, 323, 13, 173, 5861, 313334, 1, 0, 0, 0, 0...</td>\n",
       "      <td>anticipation</td>\n",
       "    </tr>\n",
       "    <tr>\n",
       "      <th>5</th>\n",
       "      <td>0x368e95</td>\n",
       "      <td>love knows no gender 😢😭 lh</td>\n",
       "      <td>[29, 585, 49, 3558, 21535, 1, 0, 0, 0, 0, 0, 0...</td>\n",
       "      <td>joy</td>\n",
       "    </tr>\n",
       "    <tr>\n",
       "      <th>6</th>\n",
       "      <td>0x249c0c</td>\n",
       "      <td>dstvngcare dstvng more highlights are being sh...</td>\n",
       "      <td>[95836, 41293, 67, 6005, 19, 117, 2756, 101, 1...</td>\n",
       "      <td>sadness</td>\n",
       "    </tr>\n",
       "    <tr>\n",
       "      <th>7</th>\n",
       "      <td>0x359db9</td>\n",
       "      <td>the ssm debate lh a manufactured fantasy used ...</td>\n",
       "      <td>[2, 12635, 3209, 1, 5, 25509, 1780, 472, 3, 57...</td>\n",
       "      <td>anticipation</td>\n",
       "    </tr>\n",
       "    <tr>\n",
       "      <th>8</th>\n",
       "      <td>0x23b037</td>\n",
       "      <td>i love suffering 🙃🙃 i love when valium does no...</td>\n",
       "      <td>[4, 29, 1841, 11519, 4, 29, 31, 35867, 189, 18...</td>\n",
       "      <td>joy</td>\n",
       "    </tr>\n",
       "    <tr>\n",
       "      <th>9</th>\n",
       "      <td>0x1fde89</td>\n",
       "      <td>can someone tell my why my feeds scroll back t...</td>\n",
       "      <td>[44, 142, 247, 12, 78, 12, 5347, 7972, 87, 3, ...</td>\n",
       "      <td>anger</td>\n",
       "    </tr>\n",
       "  </tbody>\n",
       "</table>\n",
       "</div>"
      ],
      "text/plain": [
       "   tweet_id                                               text  \\\n",
       "0  0x376b20  people who post add me on snapchat must be deh...   \n",
       "1  0x2d5350  brianklaas as we see trump is dangerous to fre...   \n",
       "2  0x1cd5b0                  now issa is stalking tasha 😂😂😂 lh   \n",
       "3  0x1d755c  riskshow thekevinallison thx for the best time...   \n",
       "4  0x2c91a8          still waiting on those supplies liscus lh   \n",
       "5  0x368e95                         love knows no gender 😢😭 lh   \n",
       "6  0x249c0c  dstvngcare dstvng more highlights are being sh...   \n",
       "7  0x359db9  the ssm debate lh a manufactured fantasy used ...   \n",
       "8  0x23b037  i love suffering 🙃🙃 i love when valium does no...   \n",
       "9  0x1fde89  can someone tell my why my feeds scroll back t...   \n",
       "\n",
       "                                      tokenized_text       emotion  \n",
       "0  [58, 62, 552, 1075, 17, 13, 1131, 285, 18, 205...  anticipation  \n",
       "1  [14038, 51, 30, 73, 206, 8, 2490, 3, 32779, 25...       sadness  \n",
       "2  [59, 587, 8, 6629, 2390, 942, 1, 0, 0, 0, 0, 0...          fear  \n",
       "3  [112380, 186445, 1811, 9, 2, 105, 60, 163, 34,...           joy  \n",
       "4  [90, 323, 13, 173, 5861, 313334, 1, 0, 0, 0, 0...  anticipation  \n",
       "5  [29, 585, 49, 3558, 21535, 1, 0, 0, 0, 0, 0, 0...           joy  \n",
       "6  [95836, 41293, 67, 6005, 19, 117, 2756, 101, 1...       sadness  \n",
       "7  [2, 12635, 3209, 1, 5, 25509, 1780, 472, 3, 57...  anticipation  \n",
       "8  [4, 29, 1841, 11519, 4, 29, 31, 35867, 189, 18...           joy  \n",
       "9  [44, 142, 247, 12, 78, 12, 5347, 7972, 87, 3, ...         anger  "
      ]
     },
     "execution_count": 15,
     "metadata": {},
     "output_type": "execute_result"
    }
   ],
   "source": [
    "train_df[:10]"
   ]
  },
  {
   "cell_type": "code",
   "execution_count": 16,
   "id": "8a682ad8",
   "metadata": {
    "execution": {
     "iopub.execute_input": "2021-12-23T12:54:50.001605Z",
     "iopub.status.busy": "2021-12-23T12:54:50.000445Z",
     "iopub.status.idle": "2021-12-23T12:54:50.004887Z",
     "shell.execute_reply": "2021-12-23T12:54:50.004332Z",
     "shell.execute_reply.started": "2021-12-23T08:23:29.615430Z"
    },
    "papermill": {
     "duration": 0.063736,
     "end_time": "2021-12-23T12:54:50.005037",
     "exception": false,
     "start_time": "2021-12-23T12:54:49.941301",
     "status": "completed"
    },
    "tags": []
   },
   "outputs": [
    {
     "data": {
      "text/html": [
       "<div>\n",
       "<style scoped>\n",
       "    .dataframe tbody tr th:only-of-type {\n",
       "        vertical-align: middle;\n",
       "    }\n",
       "\n",
       "    .dataframe tbody tr th {\n",
       "        vertical-align: top;\n",
       "    }\n",
       "\n",
       "    .dataframe thead th {\n",
       "        text-align: right;\n",
       "    }\n",
       "</style>\n",
       "<table border=\"1\" class=\"dataframe\">\n",
       "  <thead>\n",
       "    <tr style=\"text-align: right;\">\n",
       "      <th></th>\n",
       "      <th>tweet_id</th>\n",
       "      <th>text</th>\n",
       "      <th>tokenized_text</th>\n",
       "      <th>emotion</th>\n",
       "    </tr>\n",
       "  </thead>\n",
       "  <tbody>\n",
       "    <tr>\n",
       "      <th>2</th>\n",
       "      <td>0x28b412</td>\n",
       "      <td>confident of your obedience i write to you kno...</td>\n",
       "      <td>[2975, 10, 16, 3617, 4, 903, 3, 7, 906, 15, 7,...</td>\n",
       "      <td></td>\n",
       "    </tr>\n",
       "    <tr>\n",
       "      <th>4</th>\n",
       "      <td>0x2de201</td>\n",
       "      <td>trust is not the same as faith a friend is som...</td>\n",
       "      <td>[365, 8, 27, 2, 211, 51, 231, 5, 296, 8, 142, ...</td>\n",
       "      <td></td>\n",
       "    </tr>\n",
       "    <tr>\n",
       "      <th>9</th>\n",
       "      <td>0x218443</td>\n",
       "      <td>when do you have enough when are you satisfied...</td>\n",
       "      <td>[31, 41, 7, 23, 313, 31, 19, 7, 3872, 8, 7, 82...</td>\n",
       "      <td></td>\n",
       "    </tr>\n",
       "    <tr>\n",
       "      <th>30</th>\n",
       "      <td>0x2939d5</td>\n",
       "      <td>god woke you up now chase the day godsplan god...</td>\n",
       "      <td>[53, 497, 7, 36, 59, 2520, 2, 40, 13077, 21221...</td>\n",
       "      <td></td>\n",
       "    </tr>\n",
       "    <tr>\n",
       "      <th>33</th>\n",
       "      <td>0x26289a</td>\n",
       "      <td>in these tough times who do you turn to as you...</td>\n",
       "      <td>[11, 176, 1274, 298, 62, 41, 7, 505, 3, 51, 16...</td>\n",
       "      <td></td>\n",
       "    </tr>\n",
       "    <tr>\n",
       "      <th>35</th>\n",
       "      <td>0x31c6e0</td>\n",
       "      <td>turns out you can recognise people by their un...</td>\n",
       "      <td>[1303, 47, 7, 44, 9442, 58, 56, 108, 20034, 1,...</td>\n",
       "      <td></td>\n",
       "    </tr>\n",
       "    <tr>\n",
       "      <th>37</th>\n",
       "      <td>0x32edee</td>\n",
       "      <td>i like how hayvens mommy daddy and the keyboar...</td>\n",
       "      <td>[4, 38, 55, 186448, 4074, 1538, 6, 2, 6915, 40...</td>\n",
       "      <td></td>\n",
       "    </tr>\n",
       "    <tr>\n",
       "      <th>46</th>\n",
       "      <td>0x3714ee</td>\n",
       "      <td>i just love it when every single one of my son...</td>\n",
       "      <td>[4, 25, 29, 14, 31, 136, 513, 48, 10, 12, 916,...</td>\n",
       "      <td></td>\n",
       "    </tr>\n",
       "    <tr>\n",
       "      <th>49</th>\n",
       "      <td>0x235628</td>\n",
       "      <td>juliechen when can we expect a season of celeb...</td>\n",
       "      <td>[15369, 31, 44, 30, 925, 5, 269, 10, 25511, 4,...</td>\n",
       "      <td></td>\n",
       "    </tr>\n",
       "    <tr>\n",
       "      <th>56</th>\n",
       "      <td>0x283024</td>\n",
       "      <td>tbh regret hurts more than stepping on a lego lh</td>\n",
       "      <td>[2178, 1979, 1734, 67, 101, 5519, 13, 5, 9090,...</td>\n",
       "      <td></td>\n",
       "    </tr>\n",
       "  </tbody>\n",
       "</table>\n",
       "</div>"
      ],
      "text/plain": [
       "    tweet_id                                               text  \\\n",
       "2   0x28b412  confident of your obedience i write to you kno...   \n",
       "4   0x2de201  trust is not the same as faith a friend is som...   \n",
       "9   0x218443  when do you have enough when are you satisfied...   \n",
       "30  0x2939d5  god woke you up now chase the day godsplan god...   \n",
       "33  0x26289a  in these tough times who do you turn to as you...   \n",
       "35  0x31c6e0  turns out you can recognise people by their un...   \n",
       "37  0x32edee  i like how hayvens mommy daddy and the keyboar...   \n",
       "46  0x3714ee  i just love it when every single one of my son...   \n",
       "49  0x235628  juliechen when can we expect a season of celeb...   \n",
       "56  0x283024   tbh regret hurts more than stepping on a lego lh   \n",
       "\n",
       "                                       tokenized_text emotion  \n",
       "2   [2975, 10, 16, 3617, 4, 903, 3, 7, 906, 15, 7,...          \n",
       "4   [365, 8, 27, 2, 211, 51, 231, 5, 296, 8, 142, ...          \n",
       "9   [31, 41, 7, 23, 313, 31, 19, 7, 3872, 8, 7, 82...          \n",
       "30  [53, 497, 7, 36, 59, 2520, 2, 40, 13077, 21221...          \n",
       "33  [11, 176, 1274, 298, 62, 41, 7, 505, 3, 51, 16...          \n",
       "35  [1303, 47, 7, 44, 9442, 58, 56, 108, 20034, 1,...          \n",
       "37  [4, 38, 55, 186448, 4074, 1538, 6, 2, 6915, 40...          \n",
       "46  [4, 25, 29, 14, 31, 136, 513, 48, 10, 12, 916,...          \n",
       "49  [15369, 31, 44, 30, 925, 5, 269, 10, 25511, 4,...          \n",
       "56  [2178, 1979, 1734, 67, 101, 5519, 13, 5, 9090,...          "
      ]
     },
     "execution_count": 16,
     "metadata": {},
     "output_type": "execute_result"
    }
   ],
   "source": [
    "test_df[:10]"
   ]
  },
  {
   "cell_type": "markdown",
   "id": "41c824aa",
   "metadata": {
    "papermill": {
     "duration": 0.036382,
     "end_time": "2021-12-23T12:54:50.077105",
     "exception": false,
     "start_time": "2021-12-23T12:54:50.040723",
     "status": "completed"
    },
    "tags": []
   },
   "source": [
    "## 1.4 Save data in Pickle\n",
    "Because our data is huge, we will save our data on pickle so that it could use less space to store also consume less loading time.\n"
   ]
  },
  {
   "cell_type": "code",
   "execution_count": 17,
   "id": "aad6f033",
   "metadata": {
    "execution": {
     "iopub.execute_input": "2021-12-23T12:54:50.328190Z",
     "iopub.status.busy": "2021-12-23T12:54:50.324012Z",
     "iopub.status.idle": "2021-12-23T12:55:20.872701Z",
     "shell.execute_reply": "2021-12-23T12:55:20.872087Z",
     "shell.execute_reply.started": "2021-12-23T08:23:29.641310Z"
    },
    "papermill": {
     "duration": 30.759233,
     "end_time": "2021-12-23T12:55:20.872927",
     "exception": false,
     "start_time": "2021-12-23T12:54:50.113694",
     "status": "completed"
    },
    "tags": []
   },
   "outputs": [],
   "source": [
    "# save to pickle file, for speed\n",
    "train_df.to_pickle(\"train_df.pkl\") \n",
    "test_df.to_pickle(\"test_df.pkl\")\n",
    "\n",
    "# load a pickle file\n",
    "train_df = pd.read_pickle(\"train_df.pkl\")\n",
    "test_df = pd.read_pickle(\"test_df.pkl\")"
   ]
  },
  {
   "cell_type": "markdown",
   "id": "69281c8f",
   "metadata": {
    "papermill": {
     "duration": 0.036209,
     "end_time": "2021-12-23T12:55:20.946588",
     "exception": false,
     "start_time": "2021-12-23T12:55:20.910379",
     "status": "completed"
    },
    "tags": []
   },
   "source": [
    "## 1.5 Exploratory Data Analysis (EDA)\n",
    "We need to explore a little bit and understand the data we're dealing with. First, we find the distribution of the emotion of each tweet (or text) and create a histogram."
   ]
  },
  {
   "cell_type": "code",
   "execution_count": 18,
   "id": "f2880cca",
   "metadata": {
    "execution": {
     "iopub.execute_input": "2021-12-23T12:55:21.026297Z",
     "iopub.status.busy": "2021-12-23T12:55:21.025570Z",
     "iopub.status.idle": "2021-12-23T12:55:22.145888Z",
     "shell.execute_reply": "2021-12-23T12:55:22.146424Z",
     "shell.execute_reply.started": "2021-12-23T08:24:02.957796Z"
    },
    "papermill": {
     "duration": 1.164282,
     "end_time": "2021-12-23T12:55:22.146622",
     "exception": false,
     "start_time": "2021-12-23T12:55:20.982340",
     "status": "completed"
    },
    "tags": []
   },
   "outputs": [
    {
     "data": {
      "text/plain": [
       "emotion\n",
       "anger            39867\n",
       "anticipation    248935\n",
       "disgust         139101\n",
       "fear             63999\n",
       "joy             516017\n",
       "sadness         193437\n",
       "surprise         48729\n",
       "trust           205478\n",
       "Name: text, dtype: int64"
      ]
     },
     "execution_count": 18,
     "metadata": {},
     "output_type": "execute_result"
    }
   ],
   "source": [
    "#group to find distribution\n",
    "train_df.groupby(['emotion']).count()['text']"
   ]
  },
  {
   "cell_type": "code",
   "execution_count": 19,
   "id": "7bc953d8",
   "metadata": {
    "execution": {
     "iopub.execute_input": "2021-12-23T12:55:22.227552Z",
     "iopub.status.busy": "2021-12-23T12:55:22.226383Z",
     "iopub.status.idle": "2021-12-23T12:55:23.755637Z",
     "shell.execute_reply": "2021-12-23T12:55:23.756211Z",
     "shell.execute_reply.started": "2021-12-23T08:24:04.071455Z"
    },
    "papermill": {
     "duration": 1.57119,
     "end_time": "2021-12-23T12:55:23.756413",
     "exception": false,
     "start_time": "2021-12-23T12:55:22.185223",
     "status": "completed"
    },
    "tags": []
   },
   "outputs": [
    {
     "data": {
      "image/png": "[encoded data removed]",
      "text/plain": [
       "<Figure size 720x360 with 1 Axes>"
      ]
     },
     "metadata": {
      "needs_background": "light"
     },
     "output_type": "display_data"
    }
   ],
   "source": [
    "# the histogram of the data\n",
    "labels = train_df['emotion'].unique()\n",
    "post_total = len(train_df)\n",
    "df1 = train_df.groupby(['emotion']).count()['text']\n",
    "df1 = df1.apply(lambda x: round(x*100/post_total,3))\n",
    "\n",
    "#plot\n",
    "fig, ax = plt.subplots(figsize=(10, 5))\n",
    "plt.bar(df1.index,df1.values)\n",
    "\n",
    "#arrange\n",
    "plt.ylabel('% of instances')\n",
    "plt.xlabel('Emotion')\n",
    "plt.title('Emotion distribution')\n",
    "plt.grid(True)\n",
    "plt.show()"
   ]
  },
  {
   "cell_type": "markdown",
   "id": "7f4bce65",
   "metadata": {
    "papermill": {
     "duration": 0.037152,
     "end_time": "2021-12-23T12:55:23.831265",
     "exception": false,
     "start_time": "2021-12-23T12:55:23.794113",
     "status": "completed"
    },
    "tags": []
   },
   "source": [
    "# 2. Split training and testing data\n",
    "To train the data, we will first split it into training and validation (test) data. Afterwards, rather than put the emotion column directly into a model, we have to process these categorical (or say nominal) label by ourselves. Here, we use the basic method **one-hot encoding** to transform our categorical labels to numerical ones."
   ]
  },
  {
   "cell_type": "code",
   "execution_count": 20,
   "id": "3bfb3a7d",
   "metadata": {
    "execution": {
     "iopub.execute_input": "2021-12-23T12:55:23.913075Z",
     "iopub.status.busy": "2021-12-23T12:55:23.912355Z",
     "iopub.status.idle": "2021-12-23T12:55:26.384231Z",
     "shell.execute_reply": "2021-12-23T12:55:26.383452Z",
     "shell.execute_reply.started": "2021-12-23T08:24:05.589340Z"
    },
    "papermill": {
     "duration": 2.516069,
     "end_time": "2021-12-23T12:55:26.384400",
     "exception": false,
     "start_time": "2021-12-23T12:55:23.868331",
     "status": "completed"
    },
    "tags": []
   },
   "outputs": [],
   "source": [
    "X_train, X_test, y_train, y_test = train_test_split(train_df.drop('emotion', axis=1), train_df['emotion'], random_state=1)"
   ]
  },
  {
   "cell_type": "code",
   "execution_count": 21,
   "id": "891b612e",
   "metadata": {
    "execution": {
     "iopub.execute_input": "2021-12-23T12:55:26.470460Z",
     "iopub.status.busy": "2021-12-23T12:55:26.469153Z",
     "iopub.status.idle": "2021-12-23T12:55:26.473787Z",
     "shell.execute_reply": "2021-12-23T12:55:26.474387Z",
     "shell.execute_reply.started": "2021-12-23T08:24:07.984782Z"
    },
    "papermill": {
     "duration": 0.051567,
     "end_time": "2021-12-23T12:55:26.474596",
     "exception": false,
     "start_time": "2021-12-23T12:55:26.423029",
     "status": "completed"
    },
    "tags": []
   },
   "outputs": [
    {
     "name": "stdout",
     "output_type": "stream",
     "text": [
      "X_train.shape:  (1091672, 3)\n",
      "y_train.shape:  (1091672,)\n",
      "X_test.shape:  (363891, 3)\n",
      "y_test.shape:  (363891,)\n"
     ]
    }
   ],
   "source": [
    "# take a look at data dimension\n",
    "print('X_train.shape: ', X_train.shape)\n",
    "print('y_train.shape: ', y_train.shape)\n",
    "print('X_test.shape: ', X_test.shape)\n",
    "print('y_test.shape: ', y_test.shape)"
   ]
  },
  {
   "cell_type": "code",
   "execution_count": 22,
   "id": "c68f8b24",
   "metadata": {
    "execution": {
     "iopub.execute_input": "2021-12-23T12:55:26.555905Z",
     "iopub.status.busy": "2021-12-23T12:55:26.554732Z",
     "iopub.status.idle": "2021-12-23T12:55:26.561101Z",
     "shell.execute_reply": "2021-12-23T12:55:26.561783Z",
     "shell.execute_reply.started": "2021-12-23T08:24:07.995133Z"
    },
    "papermill": {
     "duration": 0.048851,
     "end_time": "2021-12-23T12:55:26.562089",
     "exception": false,
     "start_time": "2021-12-23T12:55:26.513238",
     "status": "completed"
    },
    "tags": []
   },
   "outputs": [
    {
     "name": "stdout",
     "output_type": "stream",
     "text": [
      "(1455563, 4)\n",
      "(411972, 4)\n"
     ]
    }
   ],
   "source": [
    "print(train_df.shape)\n",
    "print(test_df.shape)"
   ]
  },
  {
   "cell_type": "code",
   "execution_count": 23,
   "id": "b3021556",
   "metadata": {
    "execution": {
     "iopub.execute_input": "2021-12-23T12:55:26.756301Z",
     "iopub.status.busy": "2021-12-23T12:55:26.664994Z",
     "iopub.status.idle": "2021-12-23T12:55:27.245686Z",
     "shell.execute_reply": "2021-12-23T12:55:27.245104Z",
     "shell.execute_reply.started": "2021-12-23T08:24:08.007517Z"
    },
    "papermill": {
     "duration": 0.638896,
     "end_time": "2021-12-23T12:55:27.245892",
     "exception": false,
     "start_time": "2021-12-23T12:55:26.606996",
     "status": "completed"
    },
    "tags": []
   },
   "outputs": [
    {
     "name": "stdout",
     "output_type": "stream",
     "text": [
      "check label:  ['anger' 'anticipation' 'disgust' 'fear' 'joy' 'sadness' 'surprise'\n",
      " 'trust']\n",
      "\n",
      "## Before convert\n",
      "y_train[0:8]:\n",
      " 100029     anticipation\n",
      "991903            trust\n",
      "518044             fear\n",
      "215914              joy\n",
      "267503          sadness\n",
      "33598               joy\n",
      "813853          disgust\n",
      "1366138         disgust\n",
      "Name: emotion, dtype: object\n",
      "\n",
      "y_train.shape:  (1091672,)\n",
      "y_test.shape:  (363891,)\n"
     ]
    }
   ],
   "source": [
    "# deal with label (string -> one-hot)\n",
    "\n",
    "import keras\n",
    "from keras import utils as np_utils\n",
    "from sklearn.preprocessing import LabelEncoder\n",
    "\n",
    "label_encoder = LabelEncoder()\n",
    "label_encoder.fit(y_train)\n",
    "print('check label: ', label_encoder.classes_)\n",
    "print('\\n## Before convert')\n",
    "print('y_train[0:8]:\\n', y_train[0:8])\n",
    "print('\\ny_train.shape: ', y_train.shape)\n",
    "print('y_test.shape: ', y_test.shape)\n",
    "\n",
    "def label_encode(le, labels):\n",
    "    enc = le.transform(labels)\n",
    "    return keras.utils.np_utils.to_categorical(enc)\n",
    "\n",
    "def label_decode(le, one_hot_label):\n",
    "    dec = np.argmax(one_hot_label, axis=1)\n",
    "    return le.inverse_transform(dec)\n",
    "\n",
    "y_train = label_encode(label_encoder, y_train)\n",
    "y_test = label_encode(label_encoder, y_test)"
   ]
  },
  {
   "cell_type": "markdown",
   "id": "979b50cf",
   "metadata": {
    "papermill": {
     "duration": 0.041907,
     "end_time": "2021-12-23T12:55:27.326191",
     "exception": false,
     "start_time": "2021-12-23T12:55:27.284284",
     "status": "completed"
    },
    "tags": []
   },
   "source": [
    "# 3. Feature Engineering\n",
    "## 3.1 Read GloVe Embedding\n",
    "For the deep neural models, we need embeddings for the text. Embeddings capture the representation of the word in higher dimensional plane. Through embeddings, we create a vector representation of the word which is learned by understanding the context of words. In this competition, I'm using **glove-twitter-embeddings**. The reason is because this embeddings are speficially trained on billion of twitter documents, which is suitable for our tweets sentiment analysis and it provides different dimensions for us to choose."
   ]
  },
  {
   "cell_type": "code",
   "execution_count": 24,
   "id": "56842200",
   "metadata": {
    "execution": {
     "iopub.execute_input": "2021-12-23T12:55:27.418840Z",
     "iopub.status.busy": "2021-12-23T12:55:27.418134Z",
     "iopub.status.idle": "2021-12-23T12:55:46.716412Z",
     "shell.execute_reply": "2021-12-23T12:55:46.717277Z",
     "shell.execute_reply.started": "2021-12-23T08:24:08.597552Z"
    },
    "papermill": {
     "duration": 19.347436,
     "end_time": "2021-12-23T12:55:46.717523",
     "exception": false,
     "start_time": "2021-12-23T12:55:27.370087",
     "status": "completed"
    },
    "tags": []
   },
   "outputs": [],
   "source": [
    "embeddings_index = dict()\n",
    "f = open('../input/glove-global-vectors-for-word-representation/glove.6B.100d.txt')\n",
    "\n",
    "for line in f:\n",
    "    values = line.split()\n",
    "    word = values[0]\n",
    "    coefs = np.asarray(values[1:], dtype='float32')\n",
    "    embeddings_index[word] = coefs\n",
    "f.close()"
   ]
  },
  {
   "cell_type": "code",
   "execution_count": 25,
   "id": "1fff41b1",
   "metadata": {
    "execution": {
     "iopub.execute_input": "2021-12-23T12:55:46.798943Z",
     "iopub.status.busy": "2021-12-23T12:55:46.798010Z",
     "iopub.status.idle": "2021-12-23T12:55:46.804483Z",
     "shell.execute_reply": "2021-12-23T12:55:46.805144Z",
     "shell.execute_reply.started": "2021-12-23T08:24:27.876755Z"
    },
    "papermill": {
     "duration": 0.048708,
     "end_time": "2021-12-23T12:55:46.805512",
     "exception": false,
     "start_time": "2021-12-23T12:55:46.756804",
     "status": "completed"
    },
    "tags": []
   },
   "outputs": [
    {
     "name": "stdout",
     "output_type": "stream",
     "text": [
      "Found 400000 word vectors.\n"
     ]
    }
   ],
   "source": [
    "print('Found %s word vectors.' % len(embeddings_index))"
   ]
  },
  {
   "cell_type": "markdown",
   "id": "578b4f28",
   "metadata": {
    "papermill": {
     "duration": 0.039165,
     "end_time": "2021-12-23T12:55:46.885331",
     "exception": false,
     "start_time": "2021-12-23T12:55:46.846166",
     "status": "completed"
    },
    "tags": []
   },
   "source": [
    "## 3.2 Create embedding\n",
    "For the bidirectional LSTM we have an embedding layer and instead of loading random weight we will load the weights from our glove embeddings."
   ]
  },
  {
   "cell_type": "code",
   "execution_count": 26,
   "id": "eb6ee2e9",
   "metadata": {
    "execution": {
     "iopub.execute_input": "2021-12-23T12:55:46.966478Z",
     "iopub.status.busy": "2021-12-23T12:55:46.965654Z",
     "iopub.status.idle": "2021-12-23T12:55:48.411387Z",
     "shell.execute_reply": "2021-12-23T12:55:48.410619Z",
     "shell.execute_reply.started": "2021-12-23T08:24:27.886169Z"
    },
    "papermill": {
     "duration": 1.487139,
     "end_time": "2021-12-23T12:55:48.411547",
     "exception": false,
     "start_time": "2021-12-23T12:55:46.924408",
     "status": "completed"
    },
    "tags": []
   },
   "outputs": [],
   "source": [
    "embedding_matrix = np.zeros((vocab_size, 100))\n",
    "for word, i in tokenizer.word_index.items():\n",
    "    embedding_vector = embeddings_index.get(word)\n",
    "    if embedding_vector is not None:\n",
    "        embedding_matrix[i] = embedding_vector"
   ]
  },
  {
   "cell_type": "markdown",
   "id": "5528bc06",
   "metadata": {
    "papermill": {
     "duration": 0.038538,
     "end_time": "2021-12-23T12:55:48.488733",
     "exception": false,
     "start_time": "2021-12-23T12:55:48.450195",
     "status": "completed"
    },
    "tags": []
   },
   "source": [
    "# 4. Model\n",
    "## 4.1 Model Building\n",
    "Bidirectional long-short term memory (BiLSTM) is the process of making any neural network o have the sequence information in both directions backwards (future to past) or forward (past to future) . The idea behind bi-directional network is to capture information of surrounding inputs. It usually learns faster than one-directional approach although it depends on the task."
   ]
  },
  {
   "cell_type": "code",
   "execution_count": 27,
   "id": "e99f39cd",
   "metadata": {
    "execution": {
     "iopub.execute_input": "2021-12-23T12:55:48.573652Z",
     "iopub.status.busy": "2021-12-23T12:55:48.572727Z",
     "iopub.status.idle": "2021-12-23T12:55:48.576257Z",
     "shell.execute_reply": "2021-12-23T12:55:48.576784Z",
     "shell.execute_reply.started": "2021-12-23T08:24:29.367268Z"
    },
    "papermill": {
     "duration": 0.050043,
     "end_time": "2021-12-23T12:55:48.577061",
     "exception": false,
     "start_time": "2021-12-23T12:55:48.527018",
     "status": "completed"
    },
    "tags": []
   },
   "outputs": [
    {
     "data": {
      "text/plain": [
       "tweet_id          object\n",
       "text              object\n",
       "tokenized_text    object\n",
       "dtype: object"
      ]
     },
     "execution_count": 27,
     "metadata": {},
     "output_type": "execute_result"
    }
   ],
   "source": [
    "X_train.dtypes"
   ]
  },
  {
   "cell_type": "code",
   "execution_count": 28,
   "id": "fe4db9e5",
   "metadata": {
    "execution": {
     "iopub.execute_input": "2021-12-23T12:55:48.682668Z",
     "iopub.status.busy": "2021-12-23T12:55:48.681911Z",
     "iopub.status.idle": "2021-12-23T12:55:48.686102Z",
     "shell.execute_reply": "2021-12-23T12:55:48.686803Z",
     "shell.execute_reply.started": "2021-12-23T08:24:29.382844Z"
    },
    "papermill": {
     "duration": 0.060909,
     "end_time": "2021-12-23T12:55:48.687039",
     "exception": false,
     "start_time": "2021-12-23T12:55:48.626130",
     "status": "completed"
    },
    "tags": []
   },
   "outputs": [
    {
     "data": {
      "text/plain": [
       "tweet_id          object\n",
       "text              object\n",
       "tokenized_text    object\n",
       "emotion           object\n",
       "dtype: object"
      ]
     },
     "execution_count": 28,
     "metadata": {},
     "output_type": "execute_result"
    }
   ],
   "source": [
    "train_df.dtypes"
   ]
  },
  {
   "cell_type": "code",
   "execution_count": 29,
   "id": "86942a40",
   "metadata": {
    "execution": {
     "iopub.execute_input": "2021-12-23T12:55:48.785580Z",
     "iopub.status.busy": "2021-12-23T12:55:48.784533Z",
     "iopub.status.idle": "2021-12-23T16:49:30.630628Z",
     "shell.execute_reply": "2021-12-23T16:49:30.631217Z",
     "shell.execute_reply.started": "2021-12-23T08:24:29.396469Z"
    },
    "papermill": {
     "duration": 14021.899899,
     "end_time": "2021-12-23T16:49:30.631443",
     "exception": false,
     "start_time": "2021-12-23T12:55:48.731544",
     "status": "completed"
    },
    "tags": []
   },
   "outputs": [
    {
     "name": "stderr",
     "output_type": "stream",
     "text": [
      "\n",
      "User settings:\n",
      "\n",
      "   KMP_AFFINITY=granularity=fine,verbose,compact,1,0\n",
      "   KMP_BLOCKTIME=0\n",
      "   KMP_DUPLICATE_LIB_OK=True\n",
      "   KMP_INIT_AT_FORK=FALSE\n",
      "   KMP_SETTINGS=1\n",
      "   KMP_WARNINGS=0\n",
      "\n",
      "Effective settings:\n",
      "\n",
      "   KMP_ABORT_DELAY=0\n",
      "   KMP_ADAPTIVE_LOCK_PROPS='1,1024'\n",
      "   KMP_ALIGN_ALLOC=64\n",
      "   KMP_ALL_THREADPRIVATE=128\n",
      "   KMP_ATOMIC_MODE=2\n",
      "   KMP_BLOCKTIME=0\n",
      "   KMP_CPUINFO_FILE: value is not defined\n",
      "   KMP_DETERMINISTIC_REDUCTION=false\n",
      "   KMP_DEVICE_THREAD_LIMIT=2147483647\n",
      "   KMP_DISP_NUM_BUFFERS=7\n",
      "   KMP_DUPLICATE_LIB_OK=true\n",
      "   KMP_ENABLE_TASK_THROTTLING=true\n",
      "   KMP_FORCE_REDUCTION: value is not defined\n",
      "   KMP_FOREIGN_THREADS_THREADPRIVATE=true\n",
      "   KMP_FORKJOIN_BARRIER='2,2'\n",
      "   KMP_FORKJOIN_BARRIER_PATTERN='hyper,hyper'\n",
      "   KMP_GTID_MODE=3\n",
      "   KMP_HANDLE_SIGNALS=false\n",
      "   KMP_HOT_TEAMS_MAX_LEVEL=1\n",
      "   KMP_HOT_TEAMS_MODE=0\n",
      "   KMP_INIT_AT_FORK=true\n",
      "   KMP_LIBRARY=throughput\n",
      "   KMP_LOCK_KIND=queuing\n",
      "   KMP_MALLOC_POOL_INCR=1M\n",
      "   KMP_NUM_LOCKS_IN_BLOCK=1\n",
      "   KMP_PLAIN_BARRIER='2,2'\n",
      "   KMP_PLAIN_BARRIER_PATTERN='hyper,hyper'\n",
      "   KMP_REDUCTION_BARRIER='1,1'\n",
      "   KMP_REDUCTION_BARRIER_PATTERN='hyper,hyper'\n",
      "   KMP_SCHEDULE='static,balanced;guided,iterative'\n",
      "   KMP_SETTINGS=true\n",
      "   KMP_SPIN_BACKOFF_PARAMS='4096,100'\n",
      "   KMP_STACKOFFSET=64\n",
      "   KMP_STACKPAD=0\n",
      "   KMP_STACKSIZE=8M\n",
      "   KMP_STORAGE_MAP=false\n",
      "   KMP_TASKING=2\n",
      "   KMP_TASKLOOP_MIN_TASKS=0\n",
      "   KMP_TASK_STEALING_CONSTRAINT=1\n",
      "   KMP_TEAMS_THREAD_LIMIT=4\n",
      "   KMP_TOPOLOGY_METHOD=all\n",
      "   KMP_USE_YIELD=1\n",
      "   KMP_VERSION=false\n",
      "   KMP_WARNINGS=false\n",
      "   OMP_AFFINITY_FORMAT='OMP: pid %P tid %i thread %n bound to OS proc set {%A}'\n",
      "   OMP_ALLOCATOR=omp_default_mem_alloc\n",
      "   OMP_CANCELLATION=false\n",
      "   OMP_DEFAULT_DEVICE=0\n",
      "   OMP_DISPLAY_AFFINITY=false\n",
      "   OMP_DISPLAY_ENV=false\n",
      "   OMP_DYNAMIC=false\n",
      "   OMP_MAX_ACTIVE_LEVELS=1\n",
      "   OMP_MAX_TASK_PRIORITY=0\n",
      "   OMP_NESTED: deprecated; max-active-levels-var=1\n",
      "   OMP_NUM_THREADS: value is not defined\n",
      "   OMP_PLACES: value is not defined\n",
      "   OMP_PROC_BIND='intel'\n",
      "   OMP_SCHEDULE='static'\n",
      "   OMP_STACKSIZE=8M\n",
      "   OMP_TARGET_OFFLOAD=DEFAULT\n",
      "   OMP_THREAD_LIMIT=2147483647\n",
      "   OMP_WAIT_POLICY=PASSIVE\n",
      "   KMP_AFFINITY='verbose,warnings,respect,granularity=fine,compact,1,0'\n",
      "\n",
      "2021-12-23 12:55:48.844641: I tensorflow/core/common_runtime/process_util.cc:146] Creating new thread pool with default inter op setting: 2. Tune using inter_op_parallelism_threads for best performance.\n"
     ]
    },
    {
     "name": "stdout",
     "output_type": "stream",
     "text": [
      "Model: \"sequential\"\n",
      "_________________________________________________________________\n",
      "Layer (type)                 Output Shape              Param #   \n",
      "=================================================================\n",
      "embedding (Embedding)        (None, 59, 100)           123655000 \n",
      "_________________________________________________________________\n",
      "bidirectional (Bidirectional (None, 59, 256)           234496    \n",
      "_________________________________________________________________\n",
      "global_max_pooling1d (Global (None, 256)               0         \n",
      "_________________________________________________________________\n",
      "dense (Dense)                (None, 128)               32896     \n",
      "_________________________________________________________________\n",
      "dropout (Dropout)            (None, 128)               0         \n",
      "_________________________________________________________________\n",
      "dense_1 (Dense)              (None, 64)                8256      \n",
      "_________________________________________________________________\n",
      "dropout_1 (Dropout)          (None, 64)                0         \n",
      "_________________________________________________________________\n",
      "dense_2 (Dense)              (None, 8)                 520       \n",
      "=================================================================\n",
      "Total params: 123,931,168\n",
      "Trainable params: 123,931,168\n",
      "Non-trainable params: 0\n",
      "_________________________________________________________________\n",
      "None\n"
     ]
    },
    {
     "name": "stderr",
     "output_type": "stream",
     "text": [
      "2021-12-23 12:55:57.641906: I tensorflow/compiler/mlir/mlir_graph_optimization_pass.cc:185] None of the MLIR Optimization Passes are enabled (registered 2)\n"
     ]
    },
    {
     "name": "stdout",
     "output_type": "stream",
     "text": [
      "8529/8529 [==============================] - 13965s 2s/step - loss: 1.3097 - accuracy: 0.5301 - val_loss: 1.1655 - val_accuracy: 0.5798\n"
     ]
    },
    {
     "data": {
      "text/plain": [
       "<keras.callbacks.History at 0x7fad2eeaa9d0>"
      ]
     },
     "execution_count": 29,
     "metadata": {},
     "output_type": "execute_result"
    }
   ],
   "source": [
    "from keras.models import Sequential\n",
    "from keras.layers import Dense, Embedding, Dropout, Bidirectional, LSTM, GlobalMaxPool1D\n",
    "\n",
    "output_shape = len(label_encoder.classes_)\n",
    "\n",
    "model = Sequential()\n",
    "model.add(Embedding(vocab_size, 100, weights=[embedding_matrix], input_length = max_length))\n",
    "model.add(Bidirectional(LSTM(128, return_sequences=True, dropout=0.3, recurrent_dropout=0.3)))\n",
    "model.add(GlobalMaxPool1D())\n",
    "model.add(Dense(128, activation='relu'))\n",
    "model.add(Dropout(0.3))\n",
    "model.add(Dense(64, activation='relu'))\n",
    "model.add(Dropout(0.3))\n",
    "model.add(Dense(output_shape, activation='softmax'))\n",
    "\n",
    "model.compile(loss = 'categorical_crossentropy', optimizer='adam',metrics = ['accuracy'])\n",
    "print(model.summary())\n",
    "\n",
    "batch_size = 128\n",
    "model.fit(np.stack(X_train['tokenized_text'].to_numpy(), axis=0), y_train, epochs = 1,\n",
    "          batch_size=batch_size, \n",
    "          validation_data = (np.stack(X_test['tokenized_text'].to_numpy(),axis=0), y_test),\n",
    "          verbose = 1)"
   ]
  },
  {
   "cell_type": "markdown",
   "id": "8144679f",
   "metadata": {
    "papermill": {
     "duration": 2.785476,
     "end_time": "2021-12-23T16:49:36.061756",
     "exception": false,
     "start_time": "2021-12-23T16:49:33.276280",
     "status": "completed"
    },
    "tags": []
   },
   "source": [
    "### 4.2 Predict sentiment for test data"
   ]
  },
  {
   "cell_type": "code",
   "execution_count": 30,
   "id": "154a55a5",
   "metadata": {
    "execution": {
     "iopub.execute_input": "2021-12-23T16:49:43.992991Z",
     "iopub.status.busy": "2021-12-23T16:49:43.955118Z",
     "iopub.status.idle": "2021-12-23T17:12:35.389918Z",
     "shell.execute_reply": "2021-12-23T17:12:35.390664Z",
     "shell.execute_reply.started": "2021-12-23T12:21:08.894934Z"
    },
    "papermill": {
     "duration": 1376.680249,
     "end_time": "2021-12-23T17:12:35.390912",
     "exception": false,
     "start_time": "2021-12-23T16:49:38.710663",
     "status": "completed"
    },
    "tags": []
   },
   "outputs": [],
   "source": [
    "test_df['emotion'] = label_decode(label_encoder, model.predict(np.stack(test_df['tokenized_text'].to_numpy(),axis=0)))"
   ]
  },
  {
   "cell_type": "code",
   "execution_count": 31,
   "id": "eae49171",
   "metadata": {
    "execution": {
     "iopub.execute_input": "2021-12-23T17:12:40.833327Z",
     "iopub.status.busy": "2021-12-23T17:12:40.828458Z",
     "iopub.status.idle": "2021-12-23T17:12:42.099797Z",
     "shell.execute_reply": "2021-12-23T17:12:42.100355Z",
     "shell.execute_reply.started": "2021-12-23T12:47:35.654721Z"
    },
    "papermill": {
     "duration": 4.060477,
     "end_time": "2021-12-23T17:12:42.100546",
     "exception": false,
     "start_time": "2021-12-23T17:12:38.040069",
     "status": "completed"
    },
    "tags": []
   },
   "outputs": [
    {
     "data": {
      "text/html": [
       "<div>\n",
       "<style scoped>\n",
       "    .dataframe tbody tr th:only-of-type {\n",
       "        vertical-align: middle;\n",
       "    }\n",
       "\n",
       "    .dataframe tbody tr th {\n",
       "        vertical-align: top;\n",
       "    }\n",
       "\n",
       "    .dataframe thead th {\n",
       "        text-align: right;\n",
       "    }\n",
       "</style>\n",
       "<table border=\"1\" class=\"dataframe\">\n",
       "  <thead>\n",
       "    <tr style=\"text-align: right;\">\n",
       "      <th></th>\n",
       "      <th>id</th>\n",
       "      <th>emotion</th>\n",
       "    </tr>\n",
       "  </thead>\n",
       "  <tbody>\n",
       "    <tr>\n",
       "      <th>2</th>\n",
       "      <td>0x28b412</td>\n",
       "      <td>anticipation</td>\n",
       "    </tr>\n",
       "    <tr>\n",
       "      <th>4</th>\n",
       "      <td>0x2de201</td>\n",
       "      <td>anticipation</td>\n",
       "    </tr>\n",
       "    <tr>\n",
       "      <th>9</th>\n",
       "      <td>0x218443</td>\n",
       "      <td>joy</td>\n",
       "    </tr>\n",
       "    <tr>\n",
       "      <th>30</th>\n",
       "      <td>0x2939d5</td>\n",
       "      <td>anticipation</td>\n",
       "    </tr>\n",
       "    <tr>\n",
       "      <th>33</th>\n",
       "      <td>0x26289a</td>\n",
       "      <td>trust</td>\n",
       "    </tr>\n",
       "    <tr>\n",
       "      <th>...</th>\n",
       "      <td>...</td>\n",
       "      <td>...</td>\n",
       "    </tr>\n",
       "    <tr>\n",
       "      <th>1867525</th>\n",
       "      <td>0x2913b4</td>\n",
       "      <td>anticipation</td>\n",
       "    </tr>\n",
       "    <tr>\n",
       "      <th>1867529</th>\n",
       "      <td>0x2a980e</td>\n",
       "      <td>trust</td>\n",
       "    </tr>\n",
       "    <tr>\n",
       "      <th>1867530</th>\n",
       "      <td>0x316b80</td>\n",
       "      <td>sadness</td>\n",
       "    </tr>\n",
       "    <tr>\n",
       "      <th>1867531</th>\n",
       "      <td>0x29d0cb</td>\n",
       "      <td>sadness</td>\n",
       "    </tr>\n",
       "    <tr>\n",
       "      <th>1867532</th>\n",
       "      <td>0x2a6a4f</td>\n",
       "      <td>sadness</td>\n",
       "    </tr>\n",
       "  </tbody>\n",
       "</table>\n",
       "<p>411972 rows × 2 columns</p>\n",
       "</div>"
      ],
      "text/plain": [
       "               id       emotion\n",
       "2        0x28b412  anticipation\n",
       "4        0x2de201  anticipation\n",
       "9        0x218443           joy\n",
       "30       0x2939d5  anticipation\n",
       "33       0x26289a         trust\n",
       "...           ...           ...\n",
       "1867525  0x2913b4  anticipation\n",
       "1867529  0x2a980e         trust\n",
       "1867530  0x316b80       sadness\n",
       "1867531  0x29d0cb       sadness\n",
       "1867532  0x2a6a4f       sadness\n",
       "\n",
       "[411972 rows x 2 columns]"
      ]
     },
     "execution_count": 31,
     "metadata": {},
     "output_type": "execute_result"
    }
   ],
   "source": [
    "output = test_df[['tweet_id', 'emotion']].copy()\n",
    "output = output.set_axis([\"id\", \"emotion\"], axis=1)\n",
    "output.to_csv(\"glove-bilstm.csv\", index=False)\n",
    "output"
   ]
  },
  {
   "cell_type": "markdown",
   "id": "1cfdba76",
   "metadata": {
    "papermill": {
     "duration": 2.644028,
     "end_time": "2021-12-23T17:12:47.476184",
     "exception": false,
     "start_time": "2021-12-23T17:12:44.832156",
     "status": "completed"
    },
    "tags": []
   },
   "source": [
    "# 5. Other things I've tried\n",
    "* BOW features, Naive Bayes (initial version): 0.43757\n",
    "* TF-IDF features, Naive Bayes (initial version): 0.44442\n",
    "* TF-IDF features, Logistic Regression: 0.45136\n",
    "* BOW features, Deep Neural Network: 0.44067\n",
    "\n",
    "The result of logistic regression is relatively good. It is easier to implement, interpret, and very efficient to train. It is very fast at classifying unknown records. Moreover, I tried to work with TF-IDF features on DNN. However, there were some compatibility issues. I got an error that was asking me to use `tf.sparse.reorder` to create a correctly ordered copy. When I used it, there was another error message saying that \"Input must be a SparseTensor\". I tried using todense() on the TF-IDF output. It seems to work but my 16GB RAM was not able to allocate the array."
   ]
  },
  {
   "cell_type": "code",
   "execution_count": null,
   "id": "c6be111a",
   "metadata": {
    "papermill": {
     "duration": 2.683507,
     "end_time": "2021-12-23T17:12:52.815124",
     "exception": false,
     "start_time": "2021-12-23T17:12:50.131617",
     "status": "completed"
    },
    "tags": []
   },
   "outputs": [],
   "source": []
  }
 ],
 "metadata": {
  "kernelspec": {
   "display_name": "Python 3",
   "language": "python",
   "name": "python3"
  },
  "language_info": {
   "codemirror_mode": {
    "name": "ipython",
    "version": 3
   },
   "file_extension": ".py",
   "mimetype": "text/x-python",
   "name": "python",
   "nbconvert_exporter": "python",
   "pygments_lexer": "ipython3",
   "version": "3.7.12"
  },
  "papermill": {
   "default_parameters": {},
   "duration": 15780.127088,
   "end_time": "2021-12-23T17:12:58.930062",
   "environment_variables": {},
   "exception": null,
   "input_path": "__notebook__.ipynb",
   "output_path": "__notebook__.ipynb",
   "parameters": {},
   "start_time": "2021-12-23T12:49:58.802974",
   "version": "2.3.3"
  }
 },
 "nbformat": 4,
 "nbformat_minor": 5
}
